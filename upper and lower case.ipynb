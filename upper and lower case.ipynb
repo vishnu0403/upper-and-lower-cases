{
 "cells": [
  {
   "cell_type": "code",
   "execution_count": 4,
   "id": "0b3cb96f",
   "metadata": {},
   "outputs": [],
   "source": [
    "def test(string1):\n",
    "    dictionary={\"UPPER_CASE\":0, \"LOWER_CASE\":0}\n",
    "    for c in string1:\n",
    "        if c.isupper():\n",
    "           dictionary[\"UPPER_CASE\"]+=1\n",
    "        elif c.islower():\n",
    "           dictionary[\"LOWER_CASE\"]+=1\n",
    "        else:\n",
    "           pass\n",
    "    print (\"Original String : \", string1)\n",
    "    print (\"No. of Upper case characters : \", dictionary[\"UPPER_CASE\"])\n",
    "    print (\"No. of Lower case Characters : \", dictionary[\"LOWER_CASE\"])"
   ]
  },
  {
   "cell_type": "code",
   "execution_count": 7,
   "id": "87c1a8ff",
   "metadata": {},
   "outputs": [],
   "source": [
    "a = \"The quick Brow Fox\""
   ]
  },
  {
   "cell_type": "code",
   "execution_count": 8,
   "id": "77b1ca3e",
   "metadata": {},
   "outputs": [
    {
     "name": "stdout",
     "output_type": "stream",
     "text": [
      "Original String :  The quick Brow Fox\n",
      "No. of Upper case characters :  3\n",
      "No. of Lower case Characters :  12\n"
     ]
    }
   ],
   "source": [
    "test(a)"
   ]
  },
  {
   "cell_type": "code",
   "execution_count": null,
   "id": "730cb57c",
   "metadata": {},
   "outputs": [],
   "source": []
  }
 ],
 "metadata": {
  "kernelspec": {
   "display_name": "Python 3",
   "language": "python",
   "name": "python3"
  },
  "language_info": {
   "codemirror_mode": {
    "name": "ipython",
    "version": 3
   },
   "file_extension": ".py",
   "mimetype": "text/x-python",
   "name": "python",
   "nbconvert_exporter": "python",
   "pygments_lexer": "ipython3",
   "version": "3.8.8"
  }
 },
 "nbformat": 4,
 "nbformat_minor": 5
}
